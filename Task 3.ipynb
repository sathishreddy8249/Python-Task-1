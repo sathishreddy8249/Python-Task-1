{
 "cells": [
  {
   "cell_type": "code",
   "execution_count": 15,
   "id": "f58d481c-0442-4d82-bff5-963d0b437e63",
   "metadata": {},
   "outputs": [
    {
     "name": "stdout",
     "output_type": "stream",
     "text": [
      "✅ Headlines scraped and saved to headlines.txt\n",
      "\n",
      "Top Headlines:\n",
      "\n",
      "1. Former French president Sarkozy given five-year sentence after Libya case\n",
      "2. Denmark says 'professional actor' behind drone incursions over its airports\n",
      "3. The sun sets on India's iconic and controversial Soviet fighter jet\n",
      "4. Kindergarten parents told to pay thousands for kids' art - sparking uproar and a midnight heist\n",
      "5. Palestinians in West Bank stranded as Israel shuts only international crossing\n",
      "6. Denmark says 'professional actor' behind drone incursions over its airports\n",
      "7. Australian film altered in China to make gay couple straight\n",
      "8. India imposes curfew in Ladakh after statehood protests turn violent\n",
      "9. Over 1,000 children fall ill from free school lunches in Indonesia\n",
      "10. The sun sets on India's iconic and controversial Soviet fighter jet\n"
     ]
    }
   ],
   "source": [
    "import requests\n",
    "from bs4 import BeautifulSoup\n",
    "\n",
    "def scrape_headlines(url, output_file=\"headlines.txt\"):\n",
    "    try:\n",
    "        response = requests.get(url)\n",
    "        response.raise_for_status()\n",
    "\n",
    "        soup = BeautifulSoup(response.text, \"html.parser\")\n",
    "\n",
    "        headlines = soup.find_all([\"h2\", \"h3\"])\n",
    "\n",
    "        if not headlines:\n",
    "            print(\"❌ No headlines found on this page.\")\n",
    "            return\n",
    "\n",
    "        with open(output_file, \"w\", encoding=\"utf-8\") as f:\n",
    "            for i, headline in enumerate(headlines, start=1):\n",
    "                text = headline.get_text(strip=True)\n",
    "                if text:\n",
    "                    f.write(f\"{i}. {text}\\n\")\n",
    "\n",
    "        print(f\"✅ Headlines scraped and saved to {output_file}\")\n",
    "\n",
    "        print(\"\\nTop Headlines:\\n\")\n",
    "        for i, headline in enumerate(headlines[:10], start=1):\n",
    "            text = headline.get_text(strip=True)\n",
    "            if text:\n",
    "                print(f\"{i}. {text}\")\n",
    "\n",
    "    except Exception as e:\n",
    "        print(f\"❌ Error: {e}\")\n",
    "\n",
    "if __name__ == \"__main__\":\n",
    "    url = \"https://www.bbc.com/news\"  \n",
    "    scrape_headlines(url)\n",
    "\n"
   ]
  },
  {
   "cell_type": "code",
   "execution_count": null,
   "id": "4036d59a-ecf6-4617-9971-bdb72afb4ad0",
   "metadata": {},
   "outputs": [],
   "source": []
  }
 ],
 "metadata": {
  "kernelspec": {
   "display_name": "Python 3 (ipykernel)",
   "language": "python",
   "name": "python3"
  },
  "language_info": {
   "codemirror_mode": {
    "name": "ipython",
    "version": 3
   },
   "file_extension": ".py",
   "mimetype": "text/x-python",
   "name": "python",
   "nbconvert_exporter": "python",
   "pygments_lexer": "ipython3",
   "version": "3.12.7"
  }
 },
 "nbformat": 4,
 "nbformat_minor": 5
}
