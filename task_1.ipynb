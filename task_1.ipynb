{
 "cells": [
  {
   "cell_type": "code",
   "execution_count": 1,
   "id": "9cd3cdaa-c957-4c43-a586-109d2cad78a8",
   "metadata": {},
   "outputs": [
    {
     "name": "stdout",
     "output_type": "stream",
     "text": [
      "\n",
      "===== Calculator Menu =====\n",
      "1. Add\n",
      "2. Subtract\n",
      "3. Multiply\n",
      "4. Divide\n",
      "5. Power (a^b)\n",
      "6. Modulus (a%b)\n",
      "7. Show History\n",
      "8. Exit\n"
     ]
    },
    {
     "name": "stdout",
     "output_type": "stream",
     "text": [
      "Enter choice (1-8):  1\n",
      "Enter first number:  10\n",
      "Enter second number:  5\n"
     ]
    },
    {
     "name": "stdout",
     "output_type": "stream",
     "text": [
      "Result: 15.0\n",
      "\n",
      "===== Calculator Menu =====\n",
      "1. Add\n",
      "2. Subtract\n",
      "3. Multiply\n",
      "4. Divide\n",
      "5. Power (a^b)\n",
      "6. Modulus (a%b)\n",
      "7. Show History\n",
      "8. Exit\n"
     ]
    },
    {
     "name": "stdout",
     "output_type": "stream",
     "text": [
      "Enter choice (1-8):  4\n",
      "Enter first number:  8\n",
      "Enter second number:  0\n"
     ]
    },
    {
     "name": "stdout",
     "output_type": "stream",
     "text": [
      "Result: Error! Division by zero.\n",
      "\n",
      "===== Calculator Menu =====\n",
      "1. Add\n",
      "2. Subtract\n",
      "3. Multiply\n",
      "4. Divide\n",
      "5. Power (a^b)\n",
      "6. Modulus (a%b)\n",
      "7. Show History\n",
      "8. Exit\n"
     ]
    },
    {
     "name": "stdout",
     "output_type": "stream",
     "text": [
      "Enter choice (1-8):  7\n"
     ]
    },
    {
     "name": "stdout",
     "output_type": "stream",
     "text": [
      "\n",
      "--- Calculation History ---\n",
      "10.0 + 5.0 = 15.0\n",
      "8.0 / 0.0 = Error! Division by zero.\n",
      "\n",
      "===== Calculator Menu =====\n",
      "1. Add\n",
      "2. Subtract\n",
      "3. Multiply\n",
      "4. Divide\n",
      "5. Power (a^b)\n",
      "6. Modulus (a%b)\n",
      "7. Show History\n",
      "8. Exit\n"
     ]
    },
    {
     "name": "stdout",
     "output_type": "stream",
     "text": [
      "Enter choice (1-8):  8\n"
     ]
    },
    {
     "name": "stdout",
     "output_type": "stream",
     "text": [
      "Exiting calculator... Goodbye!\n"
     ]
    }
   ],
   "source": [
    "# calculator.py\n",
    "\n",
    "def add(a, b):\n",
    "    return a + b\n",
    "\n",
    "def subtract(a, b):\n",
    "    return a - b\n",
    "\n",
    "def multiply(a, b):\n",
    "    return a * b\n",
    "\n",
    "def divide(a, b):\n",
    "    if b == 0:\n",
    "        return \"Error! Division by zero.\"\n",
    "    return a / b\n",
    "\n",
    "def power(a, b):\n",
    "    return a ** b\n",
    "\n",
    "def modulus(a, b):\n",
    "    if b == 0:\n",
    "        return \"Error! Modulus by zero.\"\n",
    "    return a % b\n",
    "\n",
    "\n",
    "def calculator():\n",
    "    history = []  # store past calculations\n",
    "\n",
    "    while True:\n",
    "        print(\"\\n===== Calculator Menu =====\")\n",
    "        print(\"1. Add\")\n",
    "        print(\"2. Subtract\")\n",
    "        print(\"3. Multiply\")\n",
    "        print(\"4. Divide\")\n",
    "        print(\"5. Power (a^b)\")\n",
    "        print(\"6. Modulus (a%b)\")\n",
    "        print(\"7. Show History\")\n",
    "        print(\"8. Exit\")\n",
    "\n",
    "        choice = input(\"Enter choice (1-8): \")\n",
    "\n",
    "        if choice == \"8\":\n",
    "            print(\"Exiting calculator... Goodbye!\")\n",
    "            break\n",
    "\n",
    "        if choice == \"7\":\n",
    "            if history:\n",
    "                print(\"\\n--- Calculation History ---\")\n",
    "                for record in history:\n",
    "                    print(record)\n",
    "            else:\n",
    "                print(\"No history yet.\")\n",
    "            continue\n",
    "\n",
    "        if choice not in [\"1\", \"2\", \"3\", \"4\", \"5\", \"6\"]:\n",
    "            print(\"Invalid choice! Please try again.\")\n",
    "            continue\n",
    "\n",
    "        try:\n",
    "            num1 = float(input(\"Enter first number: \"))\n",
    "            num2 = float(input(\"Enter second number: \"))\n",
    "        except ValueError:\n",
    "            print(\"Invalid input! Please enter numbers only.\")\n",
    "            continue\n",
    "\n",
    "        if choice == \"1\":\n",
    "            result = add(num1, num2)\n",
    "            operation = f\"{num1} + {num2} = {result}\"\n",
    "        elif choice == \"2\":\n",
    "            result = subtract(num1, num2)\n",
    "            operation = f\"{num1} - {num2} = {result}\"\n",
    "        elif choice == \"3\":\n",
    "            result = multiply(num1, num2)\n",
    "            operation = f\"{num1} * {num2} = {result}\"\n",
    "        elif choice == \"4\":\n",
    "            result = divide(num1, num2)\n",
    "            operation = f\"{num1} / {num2} = {result}\"\n",
    "        elif choice == \"5\":\n",
    "            result = power(num1, num2)\n",
    "            operation = f\"{num1} ^ {num2} = {result}\"\n",
    "        elif choice == \"6\":\n",
    "            result = modulus(num1, num2)\n",
    "            operation = f\"{num1} % {num2} = {result}\"\n",
    "\n",
    "        print(\"Result:\", result)\n",
    "        history.append(operation)  # save in history\n",
    "\n",
    "\n",
    "if __name__ == \"__main__\":\n",
    "    calculator()"
   ]
  },
  {
   "cell_type": "code",
   "execution_count": null,
   "id": "867b5d2f-3dd9-4094-b8e2-4b4e436f209a",
   "metadata": {},
   "outputs": [],
   "source": []
  }
 ],
 "metadata": {
  "kernelspec": {
   "display_name": "Python 3 (ipykernel)",
   "language": "python",
   "name": "python3"
  },
  "language_info": {
   "codemirror_mode": {
    "name": "ipython",
    "version": 3
   },
   "file_extension": ".py",
   "mimetype": "text/x-python",
   "name": "python",
   "nbconvert_exporter": "python",
   "pygments_lexer": "ipython3",
   "version": "3.12.7"
  }
 },
 "nbformat": 4,
 "nbformat_minor": 5
}
