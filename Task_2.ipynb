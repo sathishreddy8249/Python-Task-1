{
 "cells": [
  {
   "cell_type": "code",
   "execution_count": 1,
   "id": "a9e981c5-facf-4afc-8147-9d7734bf83ac",
   "metadata": {},
   "outputs": [
    {
     "name": "stdout",
     "output_type": "stream",
     "text": [
      "===== To-Do List Menu =====\n",
      "1. View Tasks\n",
      "2. Add Task\n",
      "3. Remove Task\n",
      "4. Exit\n"
     ]
    },
    {
     "name": "stdin",
     "output_type": "stream",
     "text": [
      "Enter your choice (1-4):  1\n"
     ]
    },
    {
     "name": "stdout",
     "output_type": "stream",
     "text": [
      "No tasks in your To-Do list.\n",
      "\n",
      "===== To-Do List Menu =====\n",
      "1. View Tasks\n",
      "2. Add Task\n",
      "3. Remove Task\n",
      "4. Exit\n"
     ]
    },
    {
     "name": "stdin",
     "output_type": "stream",
     "text": [
      "Enter your choice (1-4):  2\n",
      "Enter a new task:  Finish Python Assignment\n"
     ]
    },
    {
     "name": "stdout",
     "output_type": "stream",
     "text": [
      "Task 'Finish Python Assignment' added successfully.\n",
      "\n",
      "===== To-Do List Menu =====\n",
      "1. View Tasks\n",
      "2. Add Task\n",
      "3. Remove Task\n",
      "4. Exit\n"
     ]
    },
    {
     "name": "stdin",
     "output_type": "stream",
     "text": [
      "Enter your choice (1-4):  2\n",
      "Enter a new task:  Buy Groceries\n"
     ]
    },
    {
     "name": "stdout",
     "output_type": "stream",
     "text": [
      "Task 'Buy Groceries' added successfully.\n",
      "\n",
      "===== To-Do List Menu =====\n",
      "1. View Tasks\n",
      "2. Add Task\n",
      "3. Remove Task\n",
      "4. Exit\n"
     ]
    },
    {
     "name": "stdin",
     "output_type": "stream",
     "text": [
      "Enter your choice (1-4):  1\n"
     ]
    },
    {
     "name": "stdout",
     "output_type": "stream",
     "text": [
      "\n",
      "Your To-Do List:\n",
      "1. Finish Python Assignment\n",
      "2. Buy Groceries\n",
      "\n",
      "===== To-Do List Menu =====\n",
      "1. View Tasks\n",
      "2. Add Task\n",
      "3. Remove Task\n",
      "4. Exit\n"
     ]
    },
    {
     "name": "stdin",
     "output_type": "stream",
     "text": [
      "Enter your choice (1-4):  3\n"
     ]
    },
    {
     "name": "stdout",
     "output_type": "stream",
     "text": [
      "\n",
      "Your To-Do List:\n",
      "1. Finish Python Assignment\n",
      "2. Buy Groceries\n",
      "\n"
     ]
    },
    {
     "name": "stdin",
     "output_type": "stream",
     "text": [
      "Enter the task number to remove:  1\n"
     ]
    },
    {
     "name": "stdout",
     "output_type": "stream",
     "text": [
      "Task 'Finish Python Assignment' removed successfully.\n",
      "\n",
      "===== To-Do List Menu =====\n",
      "1. View Tasks\n",
      "2. Add Task\n",
      "3. Remove Task\n",
      "4. Exit\n"
     ]
    },
    {
     "name": "stdin",
     "output_type": "stream",
     "text": [
      "Enter your choice (1-4):  1\n"
     ]
    },
    {
     "name": "stdout",
     "output_type": "stream",
     "text": [
      "\n",
      "Your To-Do List:\n",
      "1. Buy Groceries\n",
      "\n",
      "===== To-Do List Menu =====\n",
      "1. View Tasks\n",
      "2. Add Task\n",
      "3. Remove Task\n",
      "4. Exit\n"
     ]
    },
    {
     "name": "stdin",
     "output_type": "stream",
     "text": [
      "Enter your choice (1-4):  4\n"
     ]
    },
    {
     "name": "stdout",
     "output_type": "stream",
     "text": [
      "Exiting To-Do List. Goodbye!\n"
     ]
    }
   ],
   "source": [
    "\n",
    "\n",
    "TASK_FILE = \"tasks.txt\"\n",
    "\n",
    "\n",
    "def load_tasks():\n",
    "    try:\n",
    "        with open(TASK_FILE, \"r\") as file:\n",
    "            tasks = [line.strip() for line in file.readlines()]\n",
    "        return tasks\n",
    "    except FileNotFoundError:\n",
    "        return []\n",
    "\n",
    "\n",
    "def save_tasks(tasks):\n",
    "    with open(TASK_FILE, \"w\") as file:\n",
    "        for task in tasks:\n",
    "            file.write(task + \"\\n\")\n",
    "\n",
    "\n",
    "def view_tasks(tasks):\n",
    "    if not tasks:\n",
    "        print(\"No tasks in your To-Do list.\")\n",
    "    else:\n",
    "        print(\"\\nYour To-Do List:\")\n",
    "        for idx, task in enumerate(tasks, start=1):\n",
    "            print(f\"{idx}. {task}\")\n",
    "    print()\n",
    "\n",
    "\n",
    "def add_task(tasks):\n",
    "    task = input(\"Enter a new task: \").strip()\n",
    "    if task:\n",
    "        tasks.append(task)\n",
    "        save_tasks(tasks)\n",
    "        print(f\"Task '{task}' added successfully.\\n\")\n",
    "    else:\n",
    "        print(\"Task cannot be empty!\\n\")\n",
    "\n",
    "def remove_task(tasks):\n",
    "    view_tasks(tasks)\n",
    "    if tasks:\n",
    "        try:\n",
    "            task_num = int(input(\"Enter the task number to remove: \"))\n",
    "            if 1 <= task_num <= len(tasks):\n",
    "                removed_task = tasks.pop(task_num - 1)\n",
    "                save_tasks(tasks)\n",
    "                print(f\"Task '{removed_task}' removed successfully.\\n\")\n",
    "            else:\n",
    "                print(\"Invalid task number!\\n\")\n",
    "        except ValueError:\n",
    "            print(\"Please enter a valid number.\\n\")\n",
    "\n",
    "# Main menu loop\n",
    "def main():\n",
    "    tasks = load_tasks()\n",
    "    \n",
    "    while True:\n",
    "        print(\"===== To-Do List Menu =====\")\n",
    "        print(\"1. View Tasks\")\n",
    "        print(\"2. Add Task\")\n",
    "        print(\"3. Remove Task\")\n",
    "        print(\"4. Exit\")\n",
    "        choice = input(\"Enter your choice (1-4): \").strip()\n",
    "\n",
    "        if choice == \"1\":\n",
    "            view_tasks(tasks)\n",
    "        elif choice == \"2\":\n",
    "            add_task(tasks)\n",
    "        elif choice == \"3\":\n",
    "            remove_task(tasks)\n",
    "        elif choice == \"4\":\n",
    "            print(\"Exiting To-Do List. Goodbye!\")\n",
    "            break\n",
    "        else:\n",
    "            print(\"Invalid choice. Please enter 1-4.\\n\")\n",
    "\n",
    "if __name__ == \"__main__\":\n",
    "    main()\n"
   ]
  },
  {
   "cell_type": "code",
   "execution_count": null,
   "id": "f743ce78-b8ab-46ee-90e9-1106b9dd0f0e",
   "metadata": {},
   "outputs": [],
   "source": []
  }
 ],
 "metadata": {
  "kernelspec": {
   "display_name": "Python 3 (ipykernel)",
   "language": "python",
   "name": "python3"
  },
  "language_info": {
   "codemirror_mode": {
    "name": "ipython",
    "version": 3
   },
   "file_extension": ".py",
   "mimetype": "text/x-python",
   "name": "python",
   "nbconvert_exporter": "python",
   "pygments_lexer": "ipython3",
   "version": "3.12.7"
  }
 },
 "nbformat": 4,
 "nbformat_minor": 5
}
